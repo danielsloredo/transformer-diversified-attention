{
 "cells": [
  {
   "cell_type": "code",
   "execution_count": 1,
   "metadata": {
    "id": "g2jDkIYR6Rof"
   },
   "outputs": [],
   "source": [
    "#!pip install -U spacy\n",
    "#!python -m spacy download en_core_web_sm\n",
    "#!python -m spacy download de_core_news_sm"
   ]
  },
  {
   "cell_type": "code",
   "execution_count": 2,
   "metadata": {
    "scrolled": false
   },
   "outputs": [
    {
     "data": {
      "text/plain": [
       "[<matplotlib.lines.Line2D at 0x21c8e305e20>]"
      ]
     },
     "execution_count": 2,
     "metadata": {},
     "output_type": "execute_result"
    },
    {
     "data": {
      "image/png": "[encoded data removed]",
      "text/plain": [
       "<Figure size 432x288 with 1 Axes>"
      ]
     },
     "metadata": {
      "needs_background": "light"
     },
     "output_type": "display_data"
    }
   ],
   "source": [
    "# For some reason I have to plot once before other libraries :(\n",
    "import matplotlib.pyplot as plt\n",
    "plt.plot([1, 2, 3, 4])"
   ]
  },
  {
   "cell_type": "code",
   "execution_count": 3,
   "metadata": {
    "id": "gj2H7ypM5-Hq"
   },
   "outputs": [],
   "source": [
    "import torch\n",
    "import torch.nn as nn\n",
    "import torch.nn.functional as F\n",
    "import torch.optim as optim\n",
    "import spacy\n",
    "\n",
    "import numpy as np\n",
    "import math\n",
    "\n",
    "from torch.utils.tensorboard import SummaryWriter\n",
    "from torchtext.legacy.datasets import Multi30k\n",
    "from torchtext.legacy.data import Field, BucketIterator\n",
    "\n",
    "from models import CustTransformer\n",
    "\n",
    "import itertools\n",
    "\n",
    "# Helper functions :)\n",
    "from helper import translate_sentence, bleu\n",
    "\n",
    "from tqdm.notebook import tqdm\n",
    "\n",
    "from torch.nn.functional import pad\n",
    "\n",
    "import random\n",
    "\n",
    "import warnings\n",
    "warnings.filterwarnings('ignore')"
   ]
  },
  {
   "cell_type": "code",
   "execution_count": 4,
   "metadata": {},
   "outputs": [],
   "source": [
    "# Set seeds for reproducibility\n",
    "torch.manual_seed(0)\n",
    "random.seed(0)\n",
    "np.random.seed(0)"
   ]
  },
  {
   "cell_type": "code",
   "execution_count": 5,
   "metadata": {
    "id": "6WQKUWGG6JeT"
   },
   "outputs": [],
   "source": [
    "spacy_eng = spacy.load('en_core_web_sm')\n",
    "spacy_ger = spacy.load('de_core_news_sm')\n",
    "\n",
    "def tokenize_eng(text):\n",
    "    return [tok.text for tok in spacy_eng.tokenizer(text)]\n",
    "\n",
    "def tokenize_ger(text):\n",
    "    return [tok.text for tok in spacy_ger.tokenizer(text)]\n",
    "\n",
    "english = Field(sequential=True, use_vocab=True, tokenize=tokenize_eng, lower=True, init_token=\"<sos>\", eos_token=\"<eos>\")\n",
    "german = Field(sequential=True, use_vocab=True, tokenize=tokenize_ger, lower=True, init_token=\"<sos>\", eos_token=\"<eos>\")\n",
    "\n",
    "train_data, validation_data, test_data = Multi30k.splits(exts=('.de', '.en'),\n",
    "                                                         fields=(german, english))\n",
    "\n",
    "english.build_vocab(train_data, max_size=10000, min_freq=2)\n",
    "german.build_vocab(train_data, max_size=10000, min_freq=2)"
   ]
  },
  {
   "cell_type": "code",
   "execution_count": 6,
   "metadata": {
    "id": "NidI1uxw6Mbp"
   },
   "outputs": [],
   "source": [
    "class Transformer(nn.Module):\n",
    "    def __init__(\n",
    "        self,\n",
    "        embedding_size,\n",
    "        src_vocab_size,\n",
    "        trg_vocab_size,\n",
    "        src_pad_idx,\n",
    "        num_heads,\n",
    "        num_encoder_layers,\n",
    "        num_decoder_layers,\n",
    "        forward_expansion,\n",
    "        dropout,\n",
    "        max_len,\n",
    "        device,\n",
    "    ):\n",
    "        super(Transformer, self).__init__()\n",
    "        self.src_word_embedding = nn.Embedding(src_vocab_size, embedding_size)\n",
    "        self.src_position_embedding = nn.Embedding(max_len, embedding_size)\n",
    "        self.trg_word_embedding = nn.Embedding(trg_vocab_size, embedding_size)\n",
    "        self.trg_position_embedding = nn.Embedding(max_len, embedding_size)\n",
    "\n",
    "        self.device = device\n",
    "        self.transformer = CustTransformer(\n",
    "            embedding_size,\n",
    "            num_heads,\n",
    "            num_encoder_layers,\n",
    "            num_decoder_layers,\n",
    "            forward_expansion,\n",
    "            dropout,\n",
    "        )\n",
    "        self.fc_out = nn.Linear(embedding_size, trg_vocab_size)\n",
    "        self.dropout = nn.Dropout(dropout)\n",
    "        self.src_pad_idx = src_pad_idx\n",
    "\n",
    "    def make_src_mask(self, src):\n",
    "        src_mask = src.transpose(0, 1) == self.src_pad_idx\n",
    "\n",
    "        # (N, src_len)\n",
    "        return src_mask.to(self.device)\n",
    "\n",
    "    def forward(self, src, trg):\n",
    "        src_seq_length, N = src.shape\n",
    "        trg_seq_length, N = trg.shape\n",
    "\n",
    "        src_positions = (\n",
    "            torch.arange(0, src_seq_length)\n",
    "            .unsqueeze(1)\n",
    "            .expand(src_seq_length, N)\n",
    "            .to(self.device)\n",
    "        )\n",
    "\n",
    "        trg_positions = (\n",
    "            torch.arange(0, trg_seq_length)\n",
    "            .unsqueeze(1)\n",
    "            .expand(trg_seq_length, N)\n",
    "            .to(self.device)\n",
    "        )\n",
    "\n",
    "        \n",
    "        # Dropping dropout here so I can pull the output from this layer during training\n",
    "        embed_src = (self.src_word_embedding(src) + self.src_position_embedding(src_positions)).to(self.device)\n",
    "        embed_trg = self.dropout(\n",
    "            (self.trg_word_embedding(trg) + self.trg_position_embedding(trg_positions))).to(self.device)\n",
    "        \n",
    "        src_padding_mask = self.make_src_mask(src).to(self.device)\n",
    "        trg_mask = self.transformer.generate_square_subsequent_mask(trg_seq_length).to(self.device)\n",
    "                \n",
    "        out = self.transformer(\n",
    "            embed_src,\n",
    "            embed_trg,\n",
    "            src_key_padding_mask=src_padding_mask,\n",
    "            tgt_mask=trg_mask,\n",
    "        ).to(self.device)\n",
    "        \n",
    "        out = self.fc_out(out).to(self.device)\n",
    "        return out"
   ]
  },
  {
   "cell_type": "code",
   "execution_count": 7,
   "metadata": {},
   "outputs": [],
   "source": [
    "def make_src_mask(src):\n",
    "    src_mask = src.transpose(0, 1) == src_pad_idx\n",
    "    return src_mask.to(device)\n",
    "\n",
    "def make_attn_mask(inp_data, k, q, bsz):\n",
    "    key_padding_mask = make_src_mask(inp_data)\n",
    "\n",
    "    attn_mask = None\n",
    "\n",
    "    src_len = k.size(1)\n",
    "\n",
    "    if key_padding_mask is not None:\n",
    "        assert key_padding_mask.shape == (bsz, src_len), \\\n",
    "            f\"expecting key_padding_mask shape of {(bsz, src_len)}, but got {key_padding_mask.shape}\"\n",
    "        key_padding_mask = key_padding_mask.view(bsz, 1, 1, src_len).   \\\n",
    "            expand(-1, num_heads, -1, -1).reshape(bsz * num_heads, 1, src_len)\n",
    "        if attn_mask is None:\n",
    "            attn_mask = key_padding_mask\n",
    "\n",
    "    if attn_mask is not None and attn_mask.dtype == torch.bool:\n",
    "        new_attn_mask = torch.zeros_like(attn_mask, dtype=q.dtype)\n",
    "        new_attn_mask.masked_fill_(attn_mask, float(\"-inf\"))\n",
    "        attn_mask = new_attn_mask\n",
    "        \n",
    "    return attn_mask\n",
    "\n",
    "##### HELPER FUNCTION FOR FEATURE EXTRACTION\n",
    "def get_features(name):\n",
    "    def hook(model, input, output):\n",
    "        features[name] = output\n",
    "    return hook"
   ]
  },
  {
   "cell_type": "code",
   "execution_count": 8,
   "metadata": {
    "id": "mMPyS3Uj62mL"
   },
   "outputs": [
    {
     "name": "stdout",
     "output_type": "stream",
     "text": [
      "Current Device: NVIDIA GeForce GTX 1080 Ti\n"
     ]
    }
   ],
   "source": [
    "# We're ready to define everything we need for training our Seq2Seq model\n",
    "device = torch.device(\"cuda\" if torch.cuda.is_available() else \"cpu\")\n",
    "print(f\"Current Device: {torch.cuda.get_device_name(0)}\")\n",
    "\n",
    "# Training Hyperparameters\n",
    "num_epochs = 30\n",
    "learning_rate = 3e-4\n",
    "batch_size = 32\n",
    "\n",
    "# Model Hyperparameters\n",
    "src_vocab_size = len(german.vocab)\n",
    "trg_vocab_size = len(english.vocab)\n",
    "embedding_size = 512\n",
    "num_heads = 4\n",
    "num_encoder_layers = 3\n",
    "num_decoder_layers = 3\n",
    "dropout = 0.10\n",
    "max_len = 50\n",
    "forward_expansion = 2048\n",
    "src_pad_idx = english.vocab.stoi[\"<pad>\"]\n",
    "\n",
    "\n",
    "# Regularization term, right now its super high\n",
    "lam = 1.0\n",
    "\n",
    "static_k = None\n",
    "static_v = None"
   ]
  },
  {
   "cell_type": "code",
   "execution_count": 9,
   "metadata": {
    "id": "NlsRA02p63-8"
   },
   "outputs": [],
   "source": [
    "train_iterator, validation_iterator, test_iterator = BucketIterator.splits(\n",
    "    (train_data, validation_data, test_data),\n",
    "    batch_size=batch_size,\n",
    "    sort_within_batch = True,\n",
    "    sort_key = lambda x: len(x.src),\n",
    "    device = device)"
   ]
  },
  {
   "cell_type": "code",
   "execution_count": 10,
   "metadata": {
    "id": "yr2Iv1Sp66ua"
   },
   "outputs": [],
   "source": [
    "model = Transformer(\n",
    "    embedding_size,\n",
    "    src_vocab_size,\n",
    "    trg_vocab_size,\n",
    "    src_pad_idx,\n",
    "    num_heads,\n",
    "    num_encoder_layers,\n",
    "    num_decoder_layers,\n",
    "    forward_expansion,\n",
    "    dropout,\n",
    "    max_len,\n",
    "    device,\n",
    ").to(device)\n",
    "\n",
    "optimizer = optim.Adam(model.parameters(), lr=learning_rate)\n",
    "\n",
    "pad_idx = english.vocab.stoi[\"<pad>\"]\n",
    "criterion = nn.CrossEntropyLoss(ignore_index=pad_idx)"
   ]
  },
  {
   "cell_type": "code",
   "execution_count": 11,
   "metadata": {},
   "outputs": [
    {
     "data": {
      "text/plain": [
       "<torch.utils.hooks.RemovableHandle at 0x21cabdfcfd0>"
      ]
     },
     "execution_count": 11,
     "metadata": {},
     "output_type": "execute_result"
    }
   ],
   "source": [
    "##### REGISTER HOOK\n",
    "# Inputs to the 3 Encoder Layers\n",
    "model.src_word_embedding.register_forward_hook(get_features('E1a'))\n",
    "model.src_position_embedding.register_forward_hook(get_features('E1b'))\n",
    "model.transformer.encoder.layers[0].register_forward_hook(get_features('E2'))\n",
    "model.transformer.encoder.layers[1].register_forward_hook(get_features('E3'))"
   ]
  },
  {
   "cell_type": "code",
   "execution_count": 12,
   "metadata": {},
   "outputs": [],
   "source": [
    "def calc_encoder_reg_error(batch_size):\n",
    "    \n",
    "    reg_penalty = torch.tensor(1e-8).to(device) \n",
    "    epsilon = 1e-8\n",
    "    \n",
    "    # First we pull in the weights for each attention matricies for each layer\n",
    "    in_weight1 = model.transformer.encoder.layers[0].self_attn.in_proj_weight.to(device)\n",
    "    in_bias1 = model.transformer.encoder.layers[0].self_attn.in_proj_bias.to(device)\n",
    "\n",
    "    in_weight2 = model.transformer.encoder.layers[1].self_attn.in_proj_weight.to(device)\n",
    "    in_bias2 = model.transformer.encoder.layers[1].self_attn.in_proj_bias.to(device)\n",
    "\n",
    "    in_weight3 = model.transformer.encoder.layers[2].self_attn.in_proj_weight.to(device)\n",
    "    in_bias3 = model.transformer.encoder.layers[2].self_attn.in_proj_bias.to(device)\n",
    "    \n",
    "    weights = [in_weight1, in_weight2, in_weight3]\n",
    "    biasses = [in_bias1, in_bias2, in_bias3]\n",
    "    \n",
    "    # for each sentence in batch\n",
    "    for m in range(batch_size):\n",
    "        \n",
    "        # for each layer in encoder\n",
    "        for l in range(num_encoder_layers):\n",
    "            \n",
    "            if l == 0:\n",
    "                x = INPUTS[0]+INPUTS[1]\n",
    "            else:\n",
    "                x = INPUTS[l+1]\n",
    "                        \n",
    "            tgt_len, bsz, embed_dim = x.shape\n",
    "            head_dim = embed_dim // num_heads\n",
    "\n",
    "            q, k, v = F._in_projection_packed(x, x, x, weights[l], biasses[l])\n",
    "            q = q.contiguous().view(tgt_len, bsz * num_heads, head_dim).transpose(0, 1)\n",
    "            k = k.contiguous().view(k.shape[0], bsz * num_heads, head_dim).transpose(0, 1)\n",
    "            v = v.contiguous().view(v.shape[0], bsz * num_heads, head_dim).transpose(0, 1)\n",
    "            \n",
    "            attn_mask = make_attn_mask(inp_data, k, q, bsz=x.shape[1])\n",
    "\n",
    "            _, attn = F._scaled_dot_product_attention(q, k, v, attn_mask = attn_mask, dropout_p=0)\n",
    "            \n",
    "            for i, j in list(itertools.combinations('0123', 2)):\n",
    "                head1 = int(i)\n",
    "                head2 = int(j)\n",
    "\n",
    "                # Modified Bhattacharyya Coefficient\n",
    "                reg_penalty += torch.mean(\n",
    "                               torch.sum(\n",
    "                               torch.sqrt(\n",
    "                               torch.mul(attn[head1+(4*m)], attn[head2+(4*m)]) + epsilon), 1)) / 6 \n",
    "    \n",
    "    reg_penalty = reg_penalty/batch_size\n",
    "                    \n",
    "    return reg_penalty"
   ]
  },
  {
   "cell_type": "code",
   "execution_count": 13,
   "metadata": {
    "colab": {
     "base_uri": "https://localhost:8080/"
    },
    "id": "W5ss54GU678a",
    "outputId": "8d380e10-d8d4-45cb-85fc-39eea845ccf9",
    "scrolled": false
   },
   "outputs": [
    {
     "name": "stdout",
     "output_type": "stream",
     "text": [
      "[Epoch 1 / 30]\n",
      "Translated example sentence: \n",
      " ['noodle', 'climber', 'climber', 'climber', 'climber', 'gloves', 'clearing', 'climber', 'climber', 'climber', 'climber', 'bride', 'pink', 'ten', 'bride', 'cartons', 'pink', 'drivers', 'bride', 'bride', 'bride', 'bride', 'bride', 'cartons', 'climber', 'climber', 'climber', 'climber', 'bride', 'cartons', 'spotlights', 'cartons', 'spotlights', 'cartons', 'back', 'back', 'inflatable', 'lining', 'crosscountry', 'cartons', 'pink', 'cartons', 'unusual', 'gloves', 'cartons', 'twirling', 'bride', 'bride', 'cartons', 'cartons']\n"
     ]
    },
    {
     "data": {
      "application/vnd.jupyter.widget-view+json": {
       "model_id": "2a47e27b7edd45e780b89786bde56a56",
       "version_major": 2,
       "version_minor": 0
      },
      "text/plain": [
       "0it [00:00, ?it/s]"
      ]
     },
     "metadata": {},
     "output_type": "display_data"
    },
    {
     "name": "stdout",
     "output_type": "stream",
     "text": [
      "Bleu score 8.35\n",
      "[Epoch 2 / 30]\n",
      "Translated example sentence: \n",
      " ['a', 'couple', 'is', 'sitting', 'on', 'a', 'bench', 'in', 'front', 'of', 'a', 'large', 'building', '.', '<eos>']\n"
     ]
    },
    {
     "data": {
      "application/vnd.jupyter.widget-view+json": {
       "model_id": "970d706534984600bb55420e2579c7a2",
       "version_major": 2,
       "version_minor": 0
      },
      "text/plain": [
       "0it [00:00, ?it/s]"
      ]
     },
     "metadata": {},
     "output_type": "display_data"
    },
    {
     "name": "stdout",
     "output_type": "stream",
     "text": [
      "Bleu score 12.97\n",
      "[Epoch 3 / 30]\n",
      "Translated example sentence: \n",
      " ['a', 'skateboarder', 'is', 'walking', 'down', 'a', 'sidewalk', 'in', 'a', 'city', '.', '<eos>']\n"
     ]
    },
    {
     "data": {
      "application/vnd.jupyter.widget-view+json": {
       "model_id": "892a92b66019485cac58ebda6576cd40",
       "version_major": 2,
       "version_minor": 0
      },
      "text/plain": [
       "0it [00:00, ?it/s]"
      ]
     },
     "metadata": {},
     "output_type": "display_data"
    },
    {
     "name": "stdout",
     "output_type": "stream",
     "text": [
      "Bleu score 19.71\n",
      "[Epoch 4 / 30]\n",
      "Translated example sentence: \n",
      " ['a', 'boy', 'walking', 'past', 'a', 'boat', 'in', 'a', 'boat', '.', '<eos>']\n"
     ]
    },
    {
     "data": {
      "application/vnd.jupyter.widget-view+json": {
       "model_id": "c4d974f7d46d47aab2848c0a32f17eb8",
       "version_major": 2,
       "version_minor": 0
      },
      "text/plain": [
       "0it [00:00, ?it/s]"
      ]
     },
     "metadata": {},
     "output_type": "display_data"
    },
    {
     "name": "stdout",
     "output_type": "stream",
     "text": [
      "Bleu score 20.96\n",
      "[Epoch 5 / 30]\n",
      "Translated example sentence: \n",
      " ['a', 'horse', 'is', 'walking', 'under', 'a', 'boat', 'next', 'to', 'a', 'boat', '.', '<eos>']\n"
     ]
    },
    {
     "data": {
      "application/vnd.jupyter.widget-view+json": {
       "model_id": "ecaf99aa02aa4815ae96053cc910d5e1",
       "version_major": 2,
       "version_minor": 0
      },
      "text/plain": [
       "0it [00:00, ?it/s]"
      ]
     },
     "metadata": {},
     "output_type": "display_data"
    },
    {
     "name": "stdout",
     "output_type": "stream",
     "text": [
      "Bleu score 23.42\n",
      "[Epoch 6 / 30]\n",
      "Translated example sentence: \n",
      " ['a', 'horse', 'is', 'walking', 'under', 'a', 'bridge', 'next', 'to', 'a', 'boat', '.', '<eos>']\n"
     ]
    },
    {
     "data": {
      "application/vnd.jupyter.widget-view+json": {
       "model_id": "8e4a2cf995f64890ae29fef29caa6ba4",
       "version_major": 2,
       "version_minor": 0
      },
      "text/plain": [
       "0it [00:00, ?it/s]"
      ]
     },
     "metadata": {},
     "output_type": "display_data"
    },
    {
     "name": "stdout",
     "output_type": "stream",
     "text": [
      "Bleu score 25.45\n",
      "[Epoch 7 / 30]\n",
      "Translated example sentence: \n",
      " ['a', 'horse', 'is', 'walking', 'under', 'a', 'bridge', 'under', 'a', 'bridge', '.', '<eos>']\n"
     ]
    },
    {
     "data": {
      "application/vnd.jupyter.widget-view+json": {
       "model_id": "715541ecedda4e878c34058e8392ee9a",
       "version_major": 2,
       "version_minor": 0
      },
      "text/plain": [
       "0it [00:00, ?it/s]"
      ]
     },
     "metadata": {},
     "output_type": "display_data"
    },
    {
     "name": "stdout",
     "output_type": "stream",
     "text": [
      "Bleu score 25.92\n",
      "[Epoch 8 / 30]\n",
      "Translated example sentence: \n",
      " ['a', 'horse', 'walks', 'under', 'a', 'bridge', 'next', 'to', 'a', 'bridge', '.', '<eos>']\n"
     ]
    },
    {
     "data": {
      "application/vnd.jupyter.widget-view+json": {
       "model_id": "f3794652258d45c498008116604deb93",
       "version_major": 2,
       "version_minor": 0
      },
      "text/plain": [
       "0it [00:00, ?it/s]"
      ]
     },
     "metadata": {},
     "output_type": "display_data"
    },
    {
     "name": "stdout",
     "output_type": "stream",
     "text": [
      "Bleu score 27.34\n",
      "[Epoch 9 / 30]\n",
      "Translated example sentence: \n",
      " ['a', 'horse', 'is', 'walking', 'by', 'a', 'bridge', 'next', 'to', 'a', 'bridge', '.', '<eos>']\n"
     ]
    },
    {
     "data": {
      "application/vnd.jupyter.widget-view+json": {
       "model_id": "ae44b5b399f642759d08420a74cb92d8",
       "version_major": 2,
       "version_minor": 0
      },
      "text/plain": [
       "0it [00:00, ?it/s]"
      ]
     },
     "metadata": {},
     "output_type": "display_data"
    },
    {
     "name": "stdout",
     "output_type": "stream",
     "text": [
      "Bleu score 27.15\n",
      "[Epoch 10 / 30]\n",
      "Translated example sentence: \n",
      " ['a', 'horse', 'is', 'walking', 'under', 'a', 'bridge', 'next', 'to', 'a', 'boat', '.', '<eos>']\n"
     ]
    },
    {
     "data": {
      "application/vnd.jupyter.widget-view+json": {
       "model_id": "d92b964fd15349bc9b68b9ad0414cec7",
       "version_major": 2,
       "version_minor": 0
      },
      "text/plain": [
       "0it [00:00, ?it/s]"
      ]
     },
     "metadata": {},
     "output_type": "display_data"
    },
    {
     "name": "stdout",
     "output_type": "stream",
     "text": [
      "Bleu score 26.30\n",
      "[Epoch 11 / 30]\n",
      "Translated example sentence: \n",
      " ['a', 'horse', 'is', 'walking', 'beside', 'a', 'boat', '.', '<eos>']\n"
     ]
    },
    {
     "data": {
      "application/vnd.jupyter.widget-view+json": {
       "model_id": "3f910ef9f4af4869997a605594bf23f3",
       "version_major": 2,
       "version_minor": 0
      },
      "text/plain": [
       "0it [00:00, ?it/s]"
      ]
     },
     "metadata": {},
     "output_type": "display_data"
    },
    {
     "name": "stdout",
     "output_type": "stream",
     "text": [
      "Bleu score 30.60\n",
      "[Epoch 12 / 30]\n",
      "Translated example sentence: \n",
      " ['a', 'horse', 'is', 'walking', 'beside', 'a', 'bridge', 'under', 'a', 'bridge', '.', '<eos>']\n"
     ]
    },
    {
     "data": {
      "application/vnd.jupyter.widget-view+json": {
       "model_id": "10203652b67145daa5d8a4f02f569d7f",
       "version_major": 2,
       "version_minor": 0
      },
      "text/plain": [
       "0it [00:00, ?it/s]"
      ]
     },
     "metadata": {},
     "output_type": "display_data"
    },
    {
     "name": "stdout",
     "output_type": "stream",
     "text": [
      "Bleu score 29.98\n",
      "[Epoch 13 / 30]\n",
      "Translated example sentence: \n",
      " ['a', 'horse', 'is', 'walking', 'beside', 'a', 'bridge', '.', '<eos>']\n"
     ]
    },
    {
     "data": {
      "application/vnd.jupyter.widget-view+json": {
       "model_id": "91619f7cad4f4ee39067fed7ac63a658",
       "version_major": 2,
       "version_minor": 0
      },
      "text/plain": [
       "0it [00:00, ?it/s]"
      ]
     },
     "metadata": {},
     "output_type": "display_data"
    },
    {
     "name": "stdout",
     "output_type": "stream",
     "text": [
      "Bleu score 29.16\n",
      "[Epoch 14 / 30]\n",
      "Translated example sentence: \n",
      " ['a', 'horse', 'is', 'walking', 'beside', 'a', 'boat', 'under', 'a', 'bridge', '.', '<eos>']\n"
     ]
    },
    {
     "data": {
      "application/vnd.jupyter.widget-view+json": {
       "model_id": "2217339b4536409f904206e39474e73e",
       "version_major": 2,
       "version_minor": 0
      },
      "text/plain": [
       "0it [00:00, ?it/s]"
      ]
     },
     "metadata": {},
     "output_type": "display_data"
    },
    {
     "name": "stdout",
     "output_type": "stream",
     "text": [
      "Bleu score 28.44\n",
      "[Epoch 15 / 30]\n",
      "Translated example sentence: \n",
      " ['a', 'horse', 'is', 'walking', 'beside', 'a', 'bridge', 'under', 'a', 'bridge', '.', '<eos>']\n"
     ]
    },
    {
     "data": {
      "application/vnd.jupyter.widget-view+json": {
       "model_id": "e78513e8eb094dbb980354d354e4eefa",
       "version_major": 2,
       "version_minor": 0
      },
      "text/plain": [
       "0it [00:00, ?it/s]"
      ]
     },
     "metadata": {},
     "output_type": "display_data"
    },
    {
     "name": "stdout",
     "output_type": "stream",
     "text": [
      "Bleu score 29.15\n",
      "[Epoch 16 / 30]\n",
      "Translated example sentence: \n",
      " ['a', 'horse', 'is', 'walking', 'beside', 'a', 'boat', 'under', 'a', 'bridge', '.', '<eos>']\n"
     ]
    },
    {
     "data": {
      "application/vnd.jupyter.widget-view+json": {
       "model_id": "afe59c8682974c5b9bd1953b444b07c9",
       "version_major": 2,
       "version_minor": 0
      },
      "text/plain": [
       "0it [00:00, ?it/s]"
      ]
     },
     "metadata": {},
     "output_type": "display_data"
    },
    {
     "name": "stdout",
     "output_type": "stream",
     "text": [
      "Bleu score 28.05\n",
      "[Epoch 17 / 30]\n",
      "Translated example sentence: \n",
      " ['a', 'horse', 'is', 'walking', 'beside', 'a', 'boat', 'under', 'a', 'bridge', '.', '<eos>']\n"
     ]
    },
    {
     "data": {
      "application/vnd.jupyter.widget-view+json": {
       "model_id": "75e2451eefaf4333b99be35ab9e49ae6",
       "version_major": 2,
       "version_minor": 0
      },
      "text/plain": [
       "0it [00:00, ?it/s]"
      ]
     },
     "metadata": {},
     "output_type": "display_data"
    },
    {
     "name": "stdout",
     "output_type": "stream",
     "text": [
      "Bleu score 30.20\n",
      "[Epoch 18 / 30]\n",
      "Translated example sentence: \n",
      " ['a', 'horse', 'is', 'walking', 'beside', 'a', 'boat', 'under', 'a', 'bridge', '.', '<eos>']\n"
     ]
    },
    {
     "data": {
      "application/vnd.jupyter.widget-view+json": {
       "model_id": "99fb207901a545c5bedaf327de96dd05",
       "version_major": 2,
       "version_minor": 0
      },
      "text/plain": [
       "0it [00:00, ?it/s]"
      ]
     },
     "metadata": {},
     "output_type": "display_data"
    },
    {
     "name": "stdout",
     "output_type": "stream",
     "text": [
      "Bleu score 27.09\n",
      "[Epoch 19 / 30]\n",
      "Translated example sentence: \n",
      " ['a', 'horse', 'is', 'walking', 'beside', 'a', 'boat', 'under', 'a', 'bridge', '.', '<eos>']\n"
     ]
    },
    {
     "data": {
      "application/vnd.jupyter.widget-view+json": {
       "model_id": "5e423d2bfda34491936b45862996953d",
       "version_major": 2,
       "version_minor": 0
      },
      "text/plain": [
       "0it [00:00, ?it/s]"
      ]
     },
     "metadata": {},
     "output_type": "display_data"
    },
    {
     "name": "stdout",
     "output_type": "stream",
     "text": [
      "Bleu score 28.04\n",
      "[Epoch 20 / 30]\n",
      "Translated example sentence: \n",
      " ['a', 'horse', 'is', 'walking', 'beside', 'a', 'boat', 'under', 'a', 'bridge', '.', '<eos>']\n"
     ]
    },
    {
     "data": {
      "application/vnd.jupyter.widget-view+json": {
       "model_id": "095cfc359a4342cdbe5521710d8c7945",
       "version_major": 2,
       "version_minor": 0
      },
      "text/plain": [
       "0it [00:00, ?it/s]"
      ]
     },
     "metadata": {},
     "output_type": "display_data"
    },
    {
     "name": "stdout",
     "output_type": "stream",
     "text": [
      "Bleu score 27.56\n",
      "[Epoch 21 / 30]\n",
      "Translated example sentence: \n",
      " ['a', 'horse', 'is', 'walking', 'beside', 'a', 'boat', 'under', 'a', 'bridge', '.', '<eos>']\n"
     ]
    },
    {
     "data": {
      "application/vnd.jupyter.widget-view+json": {
       "model_id": "e0e1548dd2cd43d1b2660156150552e1",
       "version_major": 2,
       "version_minor": 0
      },
      "text/plain": [
       "0it [00:00, ?it/s]"
      ]
     },
     "metadata": {},
     "output_type": "display_data"
    },
    {
     "name": "stdout",
     "output_type": "stream",
     "text": [
      "Bleu score 26.71\n",
      "[Epoch 22 / 30]\n",
      "Translated example sentence: \n",
      " ['a', 'horse', 'is', 'walking', 'beside', 'a', 'boat', 'under', 'a', 'bridge', '.', '<eos>']\n"
     ]
    },
    {
     "data": {
      "application/vnd.jupyter.widget-view+json": {
       "model_id": "24c21868dac542d9ab8527ad87413b21",
       "version_major": 2,
       "version_minor": 0
      },
      "text/plain": [
       "0it [00:00, ?it/s]"
      ]
     },
     "metadata": {},
     "output_type": "display_data"
    },
    {
     "name": "stdout",
     "output_type": "stream",
     "text": [
      "Bleu score 29.73\n",
      "[Epoch 23 / 30]\n",
      "Translated example sentence: \n",
      " ['a', 'horse', 'is', 'walking', 'beside', 'a', 'boat', 'under', 'a', 'bridge', '.', '<eos>']\n"
     ]
    },
    {
     "data": {
      "application/vnd.jupyter.widget-view+json": {
       "model_id": "01252f9346424e3dbb44eafc00016276",
       "version_major": 2,
       "version_minor": 0
      },
      "text/plain": [
       "0it [00:00, ?it/s]"
      ]
     },
     "metadata": {},
     "output_type": "display_data"
    },
    {
     "name": "stdout",
     "output_type": "stream",
     "text": [
      "Bleu score 27.15\n",
      "[Epoch 24 / 30]\n",
      "Translated example sentence: \n",
      " ['a', 'horse', 'is', 'walking', 'beside', 'a', 'boat', 'under', 'a', 'bridge', '.', '<eos>']\n"
     ]
    },
    {
     "data": {
      "application/vnd.jupyter.widget-view+json": {
       "model_id": "cbf9372aafb5434dae731afef93c309a",
       "version_major": 2,
       "version_minor": 0
      },
      "text/plain": [
       "0it [00:00, ?it/s]"
      ]
     },
     "metadata": {},
     "output_type": "display_data"
    },
    {
     "name": "stdout",
     "output_type": "stream",
     "text": [
      "Bleu score 27.49\n",
      "[Epoch 25 / 30]\n",
      "Translated example sentence: \n",
      " ['a', 'horse', 'is', 'walking', 'under', 'a', 'boat', 'under', 'a', 'boat', '.', '<eos>']\n"
     ]
    },
    {
     "data": {
      "application/vnd.jupyter.widget-view+json": {
       "model_id": "15a3e1d8370c4dd08ed87bc6ee7cd111",
       "version_major": 2,
       "version_minor": 0
      },
      "text/plain": [
       "0it [00:00, ?it/s]"
      ]
     },
     "metadata": {},
     "output_type": "display_data"
    },
    {
     "name": "stdout",
     "output_type": "stream",
     "text": [
      "Bleu score 29.51\n",
      "[Epoch 26 / 30]\n",
      "Translated example sentence: \n",
      " ['a', 'horse', 'is', 'walking', 'beside', 'a', 'boat', 'under', 'a', 'bridge', '.', '<eos>']\n"
     ]
    },
    {
     "data": {
      "application/vnd.jupyter.widget-view+json": {
       "model_id": "2f03f26756fc475994661b6e9c13c891",
       "version_major": 2,
       "version_minor": 0
      },
      "text/plain": [
       "0it [00:00, ?it/s]"
      ]
     },
     "metadata": {},
     "output_type": "display_data"
    },
    {
     "name": "stdout",
     "output_type": "stream",
     "text": [
      "Bleu score 29.90\n",
      "[Epoch 27 / 30]\n",
      "Translated example sentence: \n",
      " ['a', 'horse', 'is', 'walking', 'beside', 'a', 'boat', 'under', 'a', 'bridge', '.', '<eos>']\n"
     ]
    },
    {
     "data": {
      "application/vnd.jupyter.widget-view+json": {
       "model_id": "4ee0fd8ea71c49559e5b0e2535075d5b",
       "version_major": 2,
       "version_minor": 0
      },
      "text/plain": [
       "0it [00:00, ?it/s]"
      ]
     },
     "metadata": {},
     "output_type": "display_data"
    },
    {
     "name": "stdout",
     "output_type": "stream",
     "text": [
      "Bleu score 27.67\n",
      "[Epoch 28 / 30]\n",
      "Translated example sentence: \n",
      " ['a', 'horse', 'is', 'walking', 'beside', 'a', 'boat', 'under', 'a', 'bridge', '.', '<eos>']\n"
     ]
    },
    {
     "data": {
      "application/vnd.jupyter.widget-view+json": {
       "model_id": "a82530d5a7884b30800b14a989bde82c",
       "version_major": 2,
       "version_minor": 0
      },
      "text/plain": [
       "0it [00:00, ?it/s]"
      ]
     },
     "metadata": {},
     "output_type": "display_data"
    },
    {
     "name": "stdout",
     "output_type": "stream",
     "text": [
      "Bleu score 27.93\n",
      "[Epoch 29 / 30]\n",
      "Translated example sentence: \n",
      " ['a', 'horse', 'is', 'walking', 'beside', 'a', 'boat', 'under', 'a', 'bridge', '.', '<eos>']\n"
     ]
    },
    {
     "data": {
      "application/vnd.jupyter.widget-view+json": {
       "model_id": "c71a68ad109549cd84fad7809edb2853",
       "version_major": 2,
       "version_minor": 0
      },
      "text/plain": [
       "0it [00:00, ?it/s]"
      ]
     },
     "metadata": {},
     "output_type": "display_data"
    },
    {
     "name": "stdout",
     "output_type": "stream",
     "text": [
      "Bleu score 26.76\n",
      "[Epoch 30 / 30]\n",
      "Translated example sentence: \n",
      " ['a', 'horse', 'is', 'walking', 'beside', 'a', 'boat', 'under', 'a', 'bridge', '.', '<eos>']\n"
     ]
    },
    {
     "data": {
      "application/vnd.jupyter.widget-view+json": {
       "model_id": "8727a283c39a48a480e88e50194d865a",
       "version_major": 2,
       "version_minor": 0
      },
      "text/plain": [
       "0it [00:00, ?it/s]"
      ]
     },
     "metadata": {},
     "output_type": "display_data"
    },
    {
     "name": "stdout",
     "output_type": "stream",
     "text": [
      "Bleu score 28.05\n"
     ]
    }
   ],
   "source": [
    "sentence = \"ein pferd geht unter einer brücke neben einem boot.\"\n",
    "\n",
    "losses = []\n",
    "CELosses = []\n",
    "regLosses = []\n",
    "bleuScores = []\n",
    "\n",
    "# Place holder for hooks\n",
    "features = {}\n",
    "\n",
    "for epoch in range(num_epochs):\n",
    "    print(f\"[Epoch {epoch + 1} / {num_epochs}]\")\n",
    "\n",
    "    model.eval()\n",
    "    translated_sentence = translate_sentence(model, sentence, german, english, device, max_length=50)\n",
    "    print(f\"Translated example sentence: \\n {translated_sentence}\")\n",
    "        \n",
    "    model.train()   \n",
    "    for batch_idx, batch in tqdm(enumerate(train_iterator)):       \n",
    "        # Get input and targets and get to cuda\n",
    "        inp_data = batch.src.to(device)\n",
    "        target = batch.trg.to(device)\n",
    "        \n",
    "        # Place holder for hooks\n",
    "        # placeholders\n",
    "        INPUTS = []\n",
    "        features = {}\n",
    "\n",
    "        # Forward prop\n",
    "        output = model(inp_data, target[:-1, :])\n",
    "        \n",
    "        # Store the inputs to the Encoder layers\n",
    "        INPUTS.append(features['E1a'])\n",
    "        INPUTS.append(features['E1b'])\n",
    "        INPUTS.append(features['E2'])\n",
    "        INPUTS.append(features['E3'])\n",
    "    \n",
    "\n",
    "\n",
    "        # Output is of shape (trg_len, batch_size, output_dim) but Cross Entropy Loss\n",
    "        # doesn't take input in that form. For example if we have MNIST we want to have\n",
    "        # output to be: (N, 10) and targets just (N). Here we can view it in a similar\n",
    "        # way that we have output_words * batch_size that we want to send in into\n",
    "        # our cost function, so we need to do some reshapin.\n",
    "        # Let's also remove the start token while we're at it\n",
    "        output = output.reshape(-1, output.shape[2])\n",
    "        target = target[1:].reshape(-1)\n",
    "\n",
    "        optimizer.zero_grad()\n",
    "\n",
    "        reg_penalty = torch.tensor(0)\n",
    "        cross_entropy_loss = criterion(output, target)\n",
    "        \n",
    "        #####################################################################################\n",
    "        # We will calculate the multi head attention matricies here and push for DIVERSITY! #\n",
    "        #####################################################################################\n",
    "        reg_penalty = calc_encoder_reg_error(inp_data.shape[1])\n",
    "        #####################################################################################\n",
    "        \n",
    "        loss = cross_entropy_loss + (lam * reg_penalty)\n",
    "\n",
    "        CELosses.append(cross_entropy_loss.item())\n",
    "        regLosses.append(lam * reg_penalty.cpu().detach())\n",
    "        losses.append(loss.item())\n",
    "\n",
    "        # Back prop\n",
    "        loss.backward()\n",
    "        \n",
    "        # Clip to avoid exploding gradient issues, makes sure grads are\n",
    "        # within a healthy range\n",
    "        torch.nn.utils.clip_grad_norm_(model.parameters(), max_norm=1)\n",
    "\n",
    "        # Gradient descent step\n",
    "        optimizer.step()\n",
    "        \n",
    "    # running bleu on entire test data takes a while\n",
    "    score = bleu(test_data[1:100], model, german, english, device)\n",
    "    print(f\"Bleu score {score * 100:.2f}\")\n",
    "    bleuScores.append(score)\n",
    "        \n",
    "\n"
   ]
  },
  {
   "cell_type": "code",
   "execution_count": 14,
   "metadata": {},
   "outputs": [],
   "source": [
    "bleuScores1 = bleuScores\n",
    "CELosses1 = CELosses\n",
    "regLosses1 = regLosses\n",
    "losses1 = losses"
   ]
  },
  {
   "cell_type": "code",
   "execution_count": 15,
   "metadata": {},
   "outputs": [
    {
     "data": {
      "image/png": "[encoded data removed]",
      "text/plain": [
       "<Figure size 720x360 with 1 Axes>"
      ]
     },
     "metadata": {
      "needs_background": "light"
     },
     "output_type": "display_data"
    }
   ],
   "source": [
    "plt.figure(figsize=(10,5))\n",
    "plt.title(\"Bleu Scores per Epoch\")\n",
    "x = np.arange(1, len(bleuScores1) + 1)\n",
    "plt.xticks(x)\n",
    "plt.plot(x, bleuScores1, label=\"Bleu Scores\")\n",
    "plt.xlabel(\"Epochs\")\n",
    "plt.ylabel(\"Bleu Score\")\n",
    "plt.legend()\n",
    "plt.show()"
   ]
  },
  {
   "cell_type": "code",
   "execution_count": 55,
   "metadata": {},
   "outputs": [
    {
     "data": {
      "image/png": "[encoded data removed]",
      "text/plain": [
       "<Figure size 720x360 with 1 Axes>"
      ]
     },
     "metadata": {
      "needs_background": "light"
     },
     "output_type": "display_data"
    }
   ],
   "source": [
    "plt.figure(figsize=(10,5))\n",
    "plt.title(\"Training Loss\")\n",
    "jump = 25\n",
    "x = np.arange(0, len(CELosses1), jump)\n",
    "plt.plot(x, losses1[::jump], label=\"Total Loss\")\n",
    "plt.plot(x, CELosses1[::jump], label=\"Cross Entropy Loss\")\n",
    "plt.plot(x, regLosses1[::jump], label=\"Regularization Loss\")\n",
    "plt.xlabel(\"Mini Batch Steps\")\n",
    "plt.ylabel(\"Loss\")\n",
    "# plt.ylim([0, 10])\n",
    "plt.legend()\n",
    "plt.show()"
   ]
  },
  {
   "cell_type": "code",
   "execution_count": 17,
   "metadata": {},
   "outputs": [
    {
     "name": "stdout",
     "output_type": "stream",
     "text": [
      "Current Device: NVIDIA GeForce GTX 1080 Ti\n"
     ]
    }
   ],
   "source": [
    "# We're ready to define everything we need for training our Seq2Seq model\n",
    "device = torch.device(\"cuda\" if torch.cuda.is_available() else \"cpu\")\n",
    "print(f\"Current Device: {torch.cuda.get_device_name(0)}\")\n",
    "\n",
    "# Training Hyperparameters\n",
    "num_epochs = 30\n",
    "learning_rate = 3e-4\n",
    "batch_size = 32\n",
    "\n",
    "# Model Hyperparameters\n",
    "src_vocab_size = len(german.vocab)\n",
    "trg_vocab_size = len(english.vocab)\n",
    "embedding_size = 512\n",
    "num_heads = 4\n",
    "num_encoder_layers = 3\n",
    "num_decoder_layers = 3\n",
    "dropout = 0.10\n",
    "max_len = 50\n",
    "forward_expansion = 2048\n",
    "src_pad_idx = english.vocab.stoi[\"<pad>\"]\n",
    "\n",
    "\n",
    "# Regularization term\n",
    "lam = 1.0\n",
    "\n",
    "static_k = None\n",
    "static_v = None"
   ]
  },
  {
   "cell_type": "code",
   "execution_count": 18,
   "metadata": {},
   "outputs": [],
   "source": [
    "train_iterator, validation_iterator, test_iterator = BucketIterator.splits(\n",
    "    (train_data, validation_data, test_data),\n",
    "    batch_size=batch_size,\n",
    "    sort_within_batch = True,\n",
    "    sort_key = lambda x: len(x.src),\n",
    "    device = device)"
   ]
  },
  {
   "cell_type": "code",
   "execution_count": 19,
   "metadata": {},
   "outputs": [],
   "source": [
    "model = Transformer(\n",
    "    embedding_size,\n",
    "    src_vocab_size,\n",
    "    trg_vocab_size,\n",
    "    src_pad_idx,\n",
    "    num_heads,\n",
    "    num_encoder_layers,\n",
    "    num_decoder_layers,\n",
    "    forward_expansion,\n",
    "    dropout,\n",
    "    max_len,\n",
    "    device,\n",
    ").to(device)\n",
    "\n",
    "optimizer = optim.Adam(model.parameters(), lr=learning_rate)\n",
    "\n",
    "pad_idx = english.vocab.stoi[\"<pad>\"]\n",
    "criterion = nn.CrossEntropyLoss(ignore_index=pad_idx)"
   ]
  },
  {
   "cell_type": "code",
   "execution_count": 20,
   "metadata": {},
   "outputs": [
    {
     "data": {
      "text/plain": [
       "<torch.utils.hooks.RemovableHandle at 0x21cabdbffd0>"
      ]
     },
     "execution_count": 20,
     "metadata": {},
     "output_type": "execute_result"
    }
   ],
   "source": [
    "##### REGISTER HOOK\n",
    "# Inputs to the 3 Encoder Layers\n",
    "model.src_word_embedding.register_forward_hook(get_features('E1a'))\n",
    "model.src_position_embedding.register_forward_hook(get_features('E1b'))\n",
    "model.transformer.encoder.layers[0].register_forward_hook(get_features('E2'))\n",
    "model.transformer.encoder.layers[1].register_forward_hook(get_features('E3'))"
   ]
  },
  {
   "cell_type": "code",
   "execution_count": 21,
   "metadata": {
    "scrolled": false
   },
   "outputs": [
    {
     "name": "stdout",
     "output_type": "stream",
     "text": [
      "[Epoch 1 / 30]\n",
      "Translated example sentence: \n",
      " ['lingerie', 'lingerie', 'unhappy', 'push', 'boat', 'blow', 'push', 'poodle', 'push', 'push', 'hairy', 'push', 'whom', 'push', 'hairy', 'pout', 'push', 'poodle', 'push', 'boat', 'biker', 'boat', 'push', 'hairy', 'push', 'hairy', 'pout', 'push', 'push', 'hairy', 'pout', 'fire', 'push', 'boat', 'push', 'boat', 'push', 'push', 'push', 'push', 'push', 'boat', 'biker', 'boat', 'pout', 'push', 'boat', 'boat', 'push', 'boat']\n"
     ]
    },
    {
     "data": {
      "application/vnd.jupyter.widget-view+json": {
       "model_id": "6182f5b36a204fa8ae942a5ef86c88d1",
       "version_major": 2,
       "version_minor": 0
      },
      "text/plain": [
       "0it [00:00, ?it/s]"
      ]
     },
     "metadata": {},
     "output_type": "display_data"
    },
    {
     "name": "stdout",
     "output_type": "stream",
     "text": [
      "Bleu score 15.20\n",
      "[Epoch 2 / 30]\n",
      "Translated example sentence: \n",
      " ['a', 'person', 'walks', 'next', 'to', 'a', 'snowy', 'boat', '.', '<eos>']\n"
     ]
    },
    {
     "data": {
      "application/vnd.jupyter.widget-view+json": {
       "model_id": "5b4c9f6405aa45379e8b304af732b82f",
       "version_major": 2,
       "version_minor": 0
      },
      "text/plain": [
       "0it [00:00, ?it/s]"
      ]
     },
     "metadata": {},
     "output_type": "display_data"
    },
    {
     "name": "stdout",
     "output_type": "stream",
     "text": [
      "Bleu score 23.16\n",
      "[Epoch 3 / 30]\n",
      "Translated example sentence: \n",
      " ['a', 'horse', 'walks', 'under', 'a', 'bridge', 'next', 'to', 'a', 'boat', '.', '<eos>']\n"
     ]
    },
    {
     "data": {
      "application/vnd.jupyter.widget-view+json": {
       "model_id": "59550677f28d46948e23b41721ba547c",
       "version_major": 2,
       "version_minor": 0
      },
      "text/plain": [
       "0it [00:00, ?it/s]"
      ]
     },
     "metadata": {},
     "output_type": "display_data"
    },
    {
     "name": "stdout",
     "output_type": "stream",
     "text": [
      "Bleu score 24.51\n",
      "[Epoch 4 / 30]\n",
      "Translated example sentence: \n",
      " ['a', 'horse', 'walks', 'under', 'a', 'bridge', '.', '<eos>']\n"
     ]
    },
    {
     "data": {
      "application/vnd.jupyter.widget-view+json": {
       "model_id": "33aa4de2f2ca46ec8dcb07d914ab7c80",
       "version_major": 2,
       "version_minor": 0
      },
      "text/plain": [
       "0it [00:00, ?it/s]"
      ]
     },
     "metadata": {},
     "output_type": "display_data"
    },
    {
     "name": "stdout",
     "output_type": "stream",
     "text": [
      "Bleu score 29.07\n",
      "[Epoch 5 / 30]\n",
      "Translated example sentence: \n",
      " ['a', 'horse', 'is', 'walking', 'beside', 'a', 'bridge', 'next', 'to', 'a', 'boat', '.', '<eos>']\n"
     ]
    },
    {
     "data": {
      "application/vnd.jupyter.widget-view+json": {
       "model_id": "73f92c325dad42b0af6d72cf24d33b36",
       "version_major": 2,
       "version_minor": 0
      },
      "text/plain": [
       "0it [00:00, ?it/s]"
      ]
     },
     "metadata": {},
     "output_type": "display_data"
    },
    {
     "name": "stdout",
     "output_type": "stream",
     "text": [
      "Bleu score 30.39\n",
      "[Epoch 6 / 30]\n",
      "Translated example sentence: \n",
      " ['a', 'horse', 'is', 'walking', 'under', 'a', 'bridge', 'next', 'to', 'a', 'boat', '.', '<eos>']\n"
     ]
    },
    {
     "data": {
      "application/vnd.jupyter.widget-view+json": {
       "model_id": "9ed72e998936467f92c99263f029d238",
       "version_major": 2,
       "version_minor": 0
      },
      "text/plain": [
       "0it [00:00, ?it/s]"
      ]
     },
     "metadata": {},
     "output_type": "display_data"
    },
    {
     "name": "stdout",
     "output_type": "stream",
     "text": [
      "Bleu score 32.10\n",
      "[Epoch 7 / 30]\n",
      "Translated example sentence: \n",
      " ['a', 'horse', 'walks', 'underneath', 'a', 'bridge', 'next', 'to', 'a', 'boat', '.', '<eos>']\n"
     ]
    },
    {
     "data": {
      "application/vnd.jupyter.widget-view+json": {
       "model_id": "1be65a0ea8c94dd9afba0c9415b10faf",
       "version_major": 2,
       "version_minor": 0
      },
      "text/plain": [
       "0it [00:00, ?it/s]"
      ]
     },
     "metadata": {},
     "output_type": "display_data"
    },
    {
     "name": "stdout",
     "output_type": "stream",
     "text": [
      "Bleu score 31.63\n",
      "[Epoch 8 / 30]\n",
      "Translated example sentence: \n",
      " ['a', 'horse', 'walks', 'under', 'a', 'bridge', 'next', 'to', 'a', 'boat', '.', '<eos>']\n"
     ]
    },
    {
     "data": {
      "application/vnd.jupyter.widget-view+json": {
       "model_id": "be2b2dffd404493ea949dd71555cb974",
       "version_major": 2,
       "version_minor": 0
      },
      "text/plain": [
       "0it [00:00, ?it/s]"
      ]
     },
     "metadata": {},
     "output_type": "display_data"
    },
    {
     "name": "stdout",
     "output_type": "stream",
     "text": [
      "Bleu score 30.12\n",
      "[Epoch 9 / 30]\n",
      "Translated example sentence: \n",
      " ['a', 'horse', 'is', 'walking', 'under', 'a', 'bridge', 'next', 'to', 'a', 'boat', '.', '<eos>']\n"
     ]
    },
    {
     "data": {
      "application/vnd.jupyter.widget-view+json": {
       "model_id": "0e2d10f2d88e498dbe57d56ea71a3280",
       "version_major": 2,
       "version_minor": 0
      },
      "text/plain": [
       "0it [00:00, ?it/s]"
      ]
     },
     "metadata": {},
     "output_type": "display_data"
    },
    {
     "name": "stdout",
     "output_type": "stream",
     "text": [
      "Bleu score 32.48\n",
      "[Epoch 10 / 30]\n",
      "Translated example sentence: \n",
      " ['a', 'horse', 'walks', 'under', 'a', 'bridge', 'next', 'to', 'a', 'boat', '.', '<eos>']\n"
     ]
    },
    {
     "data": {
      "application/vnd.jupyter.widget-view+json": {
       "model_id": "aad0a4099e6646d1b0a7253b2313b8c7",
       "version_major": 2,
       "version_minor": 0
      },
      "text/plain": [
       "0it [00:00, ?it/s]"
      ]
     },
     "metadata": {},
     "output_type": "display_data"
    },
    {
     "name": "stdout",
     "output_type": "stream",
     "text": [
      "Bleu score 34.06\n",
      "[Epoch 11 / 30]\n",
      "Translated example sentence: \n",
      " ['a', 'horse', 'walks', 'under', 'a', 'bridge', 'next', 'to', 'a', 'boat', '.', '<eos>']\n"
     ]
    },
    {
     "data": {
      "application/vnd.jupyter.widget-view+json": {
       "model_id": "b16ef2b66bc142ec80db398db2fbf33a",
       "version_major": 2,
       "version_minor": 0
      },
      "text/plain": [
       "0it [00:00, ?it/s]"
      ]
     },
     "metadata": {},
     "output_type": "display_data"
    },
    {
     "name": "stdout",
     "output_type": "stream",
     "text": [
      "Bleu score 29.80\n",
      "[Epoch 12 / 30]\n",
      "Translated example sentence: \n",
      " ['a', 'horse', 'is', 'walking', 'beside', 'a', 'bridge', '.', '<eos>']\n"
     ]
    },
    {
     "data": {
      "application/vnd.jupyter.widget-view+json": {
       "model_id": "bed15a516a2247619cd0ca8ffd0f584d",
       "version_major": 2,
       "version_minor": 0
      },
      "text/plain": [
       "0it [00:00, ?it/s]"
      ]
     },
     "metadata": {},
     "output_type": "display_data"
    },
    {
     "name": "stdout",
     "output_type": "stream",
     "text": [
      "Bleu score 33.82\n",
      "[Epoch 13 / 30]\n",
      "Translated example sentence: \n",
      " ['a', 'horse', 'is', 'walking', 'beside', 'a', 'boat', 'under', 'a', 'bridge', '.', '<eos>']\n"
     ]
    },
    {
     "data": {
      "application/vnd.jupyter.widget-view+json": {
       "model_id": "c77b906f4a454b8a93da9404fb35eb8d",
       "version_major": 2,
       "version_minor": 0
      },
      "text/plain": [
       "0it [00:00, ?it/s]"
      ]
     },
     "metadata": {},
     "output_type": "display_data"
    },
    {
     "name": "stdout",
     "output_type": "stream",
     "text": [
      "Bleu score 32.69\n",
      "[Epoch 14 / 30]\n",
      "Translated example sentence: \n",
      " ['a', 'horse', 'walks', 'under', 'a', 'bridge', 'near', 'a', 'boat', '.', '<eos>']\n"
     ]
    },
    {
     "data": {
      "application/vnd.jupyter.widget-view+json": {
       "model_id": "5afb8e4ddccd425ab3f954b5aa610f5f",
       "version_major": 2,
       "version_minor": 0
      },
      "text/plain": [
       "0it [00:00, ?it/s]"
      ]
     },
     "metadata": {},
     "output_type": "display_data"
    },
    {
     "name": "stdout",
     "output_type": "stream",
     "text": [
      "Bleu score 30.47\n",
      "[Epoch 15 / 30]\n",
      "Translated example sentence: \n",
      " ['a', 'horse', 'is', 'walking', 'beside', 'a', 'boat', 'under', 'a', 'bridge', '.', '<eos>']\n"
     ]
    },
    {
     "data": {
      "application/vnd.jupyter.widget-view+json": {
       "model_id": "9b01960ccda44d9c908c962dc04743b2",
       "version_major": 2,
       "version_minor": 0
      },
      "text/plain": [
       "0it [00:00, ?it/s]"
      ]
     },
     "metadata": {},
     "output_type": "display_data"
    },
    {
     "name": "stdout",
     "output_type": "stream",
     "text": [
      "Bleu score 31.53\n",
      "[Epoch 16 / 30]\n",
      "Translated example sentence: \n",
      " ['a', 'horse', 'is', 'walking', 'beside', 'a', 'boat', 'under', 'a', 'bridge', '.', '<eos>']\n"
     ]
    },
    {
     "data": {
      "application/vnd.jupyter.widget-view+json": {
       "model_id": "8c687dbbf27e4540b6f7ed09cb636418",
       "version_major": 2,
       "version_minor": 0
      },
      "text/plain": [
       "0it [00:00, ?it/s]"
      ]
     },
     "metadata": {},
     "output_type": "display_data"
    },
    {
     "name": "stdout",
     "output_type": "stream",
     "text": [
      "Bleu score 31.67\n",
      "[Epoch 17 / 30]\n",
      "Translated example sentence: \n",
      " ['a', 'horse', 'walking', 'beside', 'a', 'boat', 'under', 'a', 'bridge', '.', '<eos>']\n"
     ]
    },
    {
     "data": {
      "application/vnd.jupyter.widget-view+json": {
       "model_id": "1e5b257bdd2343e681b9be34529a19c2",
       "version_major": 2,
       "version_minor": 0
      },
      "text/plain": [
       "0it [00:00, ?it/s]"
      ]
     },
     "metadata": {},
     "output_type": "display_data"
    },
    {
     "name": "stdout",
     "output_type": "stream",
     "text": [
      "Bleu score 32.43\n",
      "[Epoch 18 / 30]\n",
      "Translated example sentence: \n",
      " ['a', 'horse', 'is', 'walking', 'beside', 'a', 'boat', 'under', 'a', 'bridge', '.', '<eos>']\n"
     ]
    },
    {
     "data": {
      "application/vnd.jupyter.widget-view+json": {
       "model_id": "8feff101b6324f3aaf89e009c1e0e94f",
       "version_major": 2,
       "version_minor": 0
      },
      "text/plain": [
       "0it [00:00, ?it/s]"
      ]
     },
     "metadata": {},
     "output_type": "display_data"
    },
    {
     "name": "stdout",
     "output_type": "stream",
     "text": [
      "Bleu score 30.74\n",
      "[Epoch 19 / 30]\n",
      "Translated example sentence: \n",
      " ['a', 'horse', 'is', 'walking', 'beside', 'a', 'boat', 'under', 'a', 'bridge', '.', '<eos>']\n"
     ]
    },
    {
     "data": {
      "application/vnd.jupyter.widget-view+json": {
       "model_id": "13b7cf8abaed41cca7576cd1dda9ca6e",
       "version_major": 2,
       "version_minor": 0
      },
      "text/plain": [
       "0it [00:00, ?it/s]"
      ]
     },
     "metadata": {},
     "output_type": "display_data"
    },
    {
     "name": "stdout",
     "output_type": "stream",
     "text": [
      "Bleu score 30.69\n",
      "[Epoch 20 / 30]\n",
      "Translated example sentence: \n",
      " ['a', 'horse', 'is', 'walking', 'beside', 'a', 'boat', 'under', 'a', 'bridge', '.', '<eos>']\n"
     ]
    },
    {
     "data": {
      "application/vnd.jupyter.widget-view+json": {
       "model_id": "5901e373825c431f9e5a986516be70f2",
       "version_major": 2,
       "version_minor": 0
      },
      "text/plain": [
       "0it [00:00, ?it/s]"
      ]
     },
     "metadata": {},
     "output_type": "display_data"
    },
    {
     "name": "stdout",
     "output_type": "stream",
     "text": [
      "Bleu score 30.67\n",
      "[Epoch 21 / 30]\n",
      "Translated example sentence: \n",
      " ['a', 'horse', 'is', 'walking', 'beside', 'a', 'boat', 'under', 'a', 'bridge', '.', '<eos>']\n"
     ]
    },
    {
     "data": {
      "application/vnd.jupyter.widget-view+json": {
       "model_id": "8515218a87fa4c3180afa490889d13db",
       "version_major": 2,
       "version_minor": 0
      },
      "text/plain": [
       "0it [00:00, ?it/s]"
      ]
     },
     "metadata": {},
     "output_type": "display_data"
    },
    {
     "name": "stdout",
     "output_type": "stream",
     "text": [
      "Bleu score 29.17\n",
      "[Epoch 22 / 30]\n",
      "Translated example sentence: \n",
      " ['a', 'horse', 'is', 'under', 'a', 'bridge', 'under', 'a', 'boat', '.', '<eos>']\n"
     ]
    },
    {
     "data": {
      "application/vnd.jupyter.widget-view+json": {
       "model_id": "d25f0c95a0ba4c93b915882fff9939e3",
       "version_major": 2,
       "version_minor": 0
      },
      "text/plain": [
       "0it [00:00, ?it/s]"
      ]
     },
     "metadata": {},
     "output_type": "display_data"
    },
    {
     "name": "stdout",
     "output_type": "stream",
     "text": [
      "Bleu score 30.70\n",
      "[Epoch 23 / 30]\n",
      "Translated example sentence: \n",
      " ['a', 'horse', 'is', 'under', 'a', 'bridge', 'next', 'to', 'a', 'boat', '.', '<eos>']\n"
     ]
    },
    {
     "data": {
      "application/vnd.jupyter.widget-view+json": {
       "model_id": "b33e1e6effb04e5eb0e045fe710afe0b",
       "version_major": 2,
       "version_minor": 0
      },
      "text/plain": [
       "0it [00:00, ?it/s]"
      ]
     },
     "metadata": {},
     "output_type": "display_data"
    },
    {
     "name": "stdout",
     "output_type": "stream",
     "text": [
      "Bleu score 33.18\n",
      "[Epoch 24 / 30]\n",
      "Translated example sentence: \n",
      " ['a', 'horse', 'is', 'walking', 'beside', 'a', 'boat', 'under', 'a', 'bridge', '.', '<eos>']\n"
     ]
    },
    {
     "data": {
      "application/vnd.jupyter.widget-view+json": {
       "model_id": "775b7ca635a1435c94c5f20df6475dac",
       "version_major": 2,
       "version_minor": 0
      },
      "text/plain": [
       "0it [00:00, ?it/s]"
      ]
     },
     "metadata": {},
     "output_type": "display_data"
    },
    {
     "name": "stdout",
     "output_type": "stream",
     "text": [
      "Bleu score 32.03\n",
      "[Epoch 25 / 30]\n",
      "Translated example sentence: \n",
      " ['a', 'horse', 'is', 'walking', 'beside', 'a', 'boat', 'under', 'a', 'bridge', '.', '<eos>']\n"
     ]
    },
    {
     "data": {
      "application/vnd.jupyter.widget-view+json": {
       "model_id": "b03151a108ff4627aaf4f99ff0371c32",
       "version_major": 2,
       "version_minor": 0
      },
      "text/plain": [
       "0it [00:00, ?it/s]"
      ]
     },
     "metadata": {},
     "output_type": "display_data"
    },
    {
     "name": "stdout",
     "output_type": "stream",
     "text": [
      "Bleu score 32.95\n",
      "[Epoch 26 / 30]\n",
      "Translated example sentence: \n",
      " ['a', 'horse', 'walks', 'beside', 'a', 'boat', 'under', 'a', 'bridge', '.', '<eos>']\n"
     ]
    },
    {
     "data": {
      "application/vnd.jupyter.widget-view+json": {
       "model_id": "8ce5ac3562f84143962df7681ead3447",
       "version_major": 2,
       "version_minor": 0
      },
      "text/plain": [
       "0it [00:00, ?it/s]"
      ]
     },
     "metadata": {},
     "output_type": "display_data"
    },
    {
     "name": "stdout",
     "output_type": "stream",
     "text": [
      "Bleu score 30.59\n",
      "[Epoch 27 / 30]\n",
      "Translated example sentence: \n",
      " ['a', 'horse', 'is', 'walking', 'under', 'a', 'bridge', '.', '<eos>']\n"
     ]
    },
    {
     "data": {
      "application/vnd.jupyter.widget-view+json": {
       "model_id": "5dccda22670343e69f14e5c43faf7c4d",
       "version_major": 2,
       "version_minor": 0
      },
      "text/plain": [
       "0it [00:00, ?it/s]"
      ]
     },
     "metadata": {},
     "output_type": "display_data"
    },
    {
     "name": "stdout",
     "output_type": "stream",
     "text": [
      "Bleu score 30.97\n",
      "[Epoch 28 / 30]\n",
      "Translated example sentence: \n",
      " ['a', 'horse', 'is', 'walking', 'beside', 'a', 'boat', 'under', 'a', 'bridge', '.', '<eos>']\n"
     ]
    },
    {
     "data": {
      "application/vnd.jupyter.widget-view+json": {
       "model_id": "c727d1fd032448c3ac39b34d0cbb39d3",
       "version_major": 2,
       "version_minor": 0
      },
      "text/plain": [
       "0it [00:00, ?it/s]"
      ]
     },
     "metadata": {},
     "output_type": "display_data"
    },
    {
     "name": "stdout",
     "output_type": "stream",
     "text": [
      "Bleu score 32.40\n",
      "[Epoch 29 / 30]\n",
      "Translated example sentence: \n",
      " ['a', 'horse', 'is', 'walking', 'beside', 'a', 'boat', 'under', 'a', 'bridge', '.', '<eos>']\n"
     ]
    },
    {
     "data": {
      "application/vnd.jupyter.widget-view+json": {
       "model_id": "74a9be0ba9484635844f5a5226cc6eaa",
       "version_major": 2,
       "version_minor": 0
      },
      "text/plain": [
       "0it [00:00, ?it/s]"
      ]
     },
     "metadata": {},
     "output_type": "display_data"
    },
    {
     "name": "stdout",
     "output_type": "stream",
     "text": [
      "Bleu score 31.04\n",
      "[Epoch 30 / 30]\n",
      "Translated example sentence: \n",
      " ['a', 'horse', 'is', 'walking', 'beside', 'a', 'boat', 'under', 'a', 'bridge', '.', '<eos>']\n"
     ]
    },
    {
     "data": {
      "application/vnd.jupyter.widget-view+json": {
       "model_id": "3304c1ef854440cc9867ec220eb3e49e",
       "version_major": 2,
       "version_minor": 0
      },
      "text/plain": [
       "0it [00:00, ?it/s]"
      ]
     },
     "metadata": {},
     "output_type": "display_data"
    },
    {
     "name": "stdout",
     "output_type": "stream",
     "text": [
      "Bleu score 32.75\n"
     ]
    }
   ],
   "source": [
    "sentence = \"ein pferd geht unter einer brücke neben einem boot.\"\n",
    "\n",
    "losses = []\n",
    "CELosses = []\n",
    "regLosses = []\n",
    "bleuScores = []\n",
    "\n",
    "# Place holder for hooks\n",
    "features = {}\n",
    "\n",
    "for epoch in range(num_epochs):\n",
    "    print(f\"[Epoch {epoch + 1} / {num_epochs}]\")\n",
    "\n",
    "    model.eval()\n",
    "    translated_sentence = translate_sentence(model, sentence, german, english, device, max_length=50)\n",
    "    print(f\"Translated example sentence: \\n {translated_sentence}\")\n",
    "        \n",
    "    model.train()   \n",
    "    for batch_idx, batch in tqdm(enumerate(train_iterator)):       \n",
    "        # Get input and targets and get to cuda\n",
    "        inp_data = batch.src.to(device)\n",
    "        target = batch.trg.to(device)\n",
    "        \n",
    "        # Place holder for hooks\n",
    "        # placeholders\n",
    "        INPUTS = []\n",
    "        features = {}\n",
    "\n",
    "        # Forward prop\n",
    "        output = model(inp_data, target[:-1, :])\n",
    "        \n",
    "        # Store the inputs to the Encoder layers\n",
    "        INPUTS.append(features['E1a'])\n",
    "        INPUTS.append(features['E1b'])\n",
    "        INPUTS.append(features['E2'])\n",
    "        INPUTS.append(features['E3'])\n",
    "    \n",
    "\n",
    "\n",
    "        # Output is of shape (trg_len, batch_size, output_dim) but Cross Entropy Loss\n",
    "        # doesn't take input in that form. For example if we have MNIST we want to have\n",
    "        # output to be: (N, 10) and targets just (N). Here we can view it in a similar\n",
    "        # way that we have output_words * batch_size that we want to send in into\n",
    "        # our cost function, so we need to do some reshapin.\n",
    "        # Let's also remove the start token while we're at it\n",
    "        output = output.reshape(-1, output.shape[2])\n",
    "        target = target[1:].reshape(-1)\n",
    "\n",
    "        optimizer.zero_grad()\n",
    "\n",
    "#         reg_penalty = torch.tensor(0)\n",
    "        cross_entropy_loss = criterion(output, target)\n",
    "        \n",
    "        #####################################################################################\n",
    "        # We will calculate the multi head attention matricies here and push for DIVERSITY! #\n",
    "        #####################################################################################\n",
    "        reg_penalty = calc_encoder_reg_error(inp_data.shape[1])\n",
    "        #####################################################################################\n",
    "        \n",
    "        \n",
    "        loss = cross_entropy_loss\n",
    "\n",
    "        CELosses.append(cross_entropy_loss.item())\n",
    "        regLosses.append(lam * reg_penalty.cpu().detach())\n",
    "        losses.append(loss.item())\n",
    "\n",
    "        # Back prop\n",
    "        loss.backward()\n",
    "        \n",
    "        # Clip to avoid exploding gradient issues, makes sure grads are\n",
    "        # within a healthy range\n",
    "        torch.nn.utils.clip_grad_norm_(model.parameters(), max_norm=1)\n",
    "\n",
    "        # Gradient descent step\n",
    "        optimizer.step()\n",
    "        \n",
    "    # running bleu on entire test data takes a while\n",
    "    score = bleu(test_data[1:100], model, german, english, device)\n",
    "    print(f\"Bleu score {score * 100:.2f}\")\n",
    "    bleuScores.append(score)\n",
    "        "
   ]
  },
  {
   "cell_type": "code",
   "execution_count": 22,
   "metadata": {},
   "outputs": [
    {
     "data": {
      "image/png": "[encoded data removed]",
      "text/plain": [
       "<Figure size 720x360 with 1 Axes>"
      ]
     },
     "metadata": {
      "needs_background": "light"
     },
     "output_type": "display_data"
    }
   ],
   "source": [
    "plt.figure(figsize=(10,5))\n",
    "plt.title(\"Bleu Scores per Epoch\")\n",
    "x = np.arange(1, len(bleuScores) + 1)\n",
    "plt.xticks(x)\n",
    "plt.plot(x, bleuScores, label=\"Bleu Scores\")\n",
    "plt.xlabel(\"Epochs\")\n",
    "plt.ylabel(\"Bleu Score\")\n",
    "plt.legend()\n",
    "plt.show()"
   ]
  },
  {
   "cell_type": "code",
   "execution_count": 23,
   "metadata": {},
   "outputs": [
    {
     "data": {
      "image/png": "[encoded data removed]",
      "text/plain": [
       "<Figure size 720x360 with 1 Axes>"
      ]
     },
     "metadata": {
      "needs_background": "light"
     },
     "output_type": "display_data"
    }
   ],
   "source": [
    "plt.figure(figsize=(10,5))\n",
    "plt.title(\"Training Loss\")\n",
    "plt.plot(CELosses,label=\"Cross Entropy Loss\")\n",
    "plt.xlabel(\"Mini Batch Steps\")\n",
    "plt.ylabel(\"Loss\")\n",
    "plt.legend()\n",
    "plt.show()"
   ]
  },
  {
   "cell_type": "code",
   "execution_count": 58,
   "metadata": {
    "scrolled": false
   },
   "outputs": [
    {
     "data": {
      "image/png": "[encoded data removed]",
      "text/plain": [
       "<Figure size 720x360 with 1 Axes>"
      ]
     },
     "metadata": {
      "needs_background": "light"
     },
     "output_type": "display_data"
    }
   ],
   "source": [
    "plt.figure(figsize=(10,5))\n",
    "plt.title(\"Diversity Score\")\n",
    "jump = 1\n",
    "x = np.arange(0, len(CELosses1), jump)\n",
    "plt.plot(regLosses1[:2000:jump], label=\"Diversity Score with Reg\")\n",
    "plt.plot(regLosses[:2000:jump], label=\"Diversity Score without Reg\", color=\"green\")\n",
    "\n",
    "plt.xlabel(\"Mini Batch Steps\")\n",
    "plt.ylabel(\"Diversity Score\")\n",
    "# plt.ylim([0, 40])\n",
    "plt.legend()\n",
    "plt.show()"
   ]
  },
  {
   "cell_type": "code",
   "execution_count": 61,
   "metadata": {
    "scrolled": true
   },
   "outputs": [
    {
     "data": {
      "image/png": "[encoded data removed]",
      "text/plain": [
       "<Figure size 720x360 with 1 Axes>"
      ]
     },
     "metadata": {
      "needs_background": "light"
     },
     "output_type": "display_data"
    }
   ],
   "source": [
    "plt.figure(figsize=(10,5))\n",
    "plt.title(\"Training Loss without Reg (But Calculated and Recorded)\")\n",
    "jump = 50\n",
    "x = np.arange(0, len(losses), jump)\n",
    "# plt.plot(x, losses[::jump], label=\"Total Loss\")\n",
    "plt.plot(x, CELosses[::jump], label=\"Cross Entropy Loss\")\n",
    "plt.plot(x, regLosses[::jump], label=\"Regularization Loss\", color=\"green\")\n",
    "plt.xlabel(\"Mini Batch Steps\")\n",
    "plt.ylabel(\"Loss\")\n",
    "plt.legend()\n",
    "plt.show()"
   ]
  },
  {
   "cell_type": "code",
   "execution_count": 26,
   "metadata": {},
   "outputs": [
    {
     "data": {
      "image/png": "[encoded data removed]",
      "text/plain": [
       "<Figure size 720x360 with 1 Axes>"
      ]
     },
     "metadata": {
      "needs_background": "light"
     },
     "output_type": "display_data"
    }
   ],
   "source": [
    "plt.figure(figsize=(10,5))\n",
    "plt.title(\"Reg vs No Reg Cross Entropy Loss\")\n",
    "jump = 50\n",
    "x = np.arange(0, len(CELosses1), jump)\n",
    "plt.plot(x, CELosses1[::jump],label=\"Cross Entropy Loss with Reg\")\n",
    "plt.plot(x, CELosses[::jump],label=\"Cross Entropy Loss without Reg\")\n",
    "plt.xlabel(\"Mini Batch Steps\")\n",
    "plt.ylabel(\"Loss\")\n",
    "plt.legend()\n",
    "plt.show()"
   ]
  },
  {
   "cell_type": "code",
   "execution_count": 27,
   "metadata": {},
   "outputs": [
    {
     "data": {
      "image/png": "[encoded data removed]",
      "text/plain": [
       "<Figure size 720x360 with 1 Axes>"
      ]
     },
     "metadata": {
      "needs_background": "light"
     },
     "output_type": "display_data"
    }
   ],
   "source": [
    "plt.figure(figsize=(10,5))\n",
    "plt.title(\"Bleu Scores per Epoch\")\n",
    "x = np.arange(1, len(bleuScores1) + 1)\n",
    "plt.xticks(x)\n",
    "plt.plot(x, bleuScores1, label=\"Bleu Scores with Reg\")\n",
    "plt.plot(x, bleuScores, label=\"Bleu Scores without Reg\")\n",
    "plt.xlabel(\"Epochs\")\n",
    "plt.ylabel(\"Bleu Score\")\n",
    "plt.legend()\n",
    "plt.show()"
   ]
  },
  {
   "cell_type": "markdown",
   "metadata": {},
   "source": [
    "### Note\n",
    "\n",
    "This code was based off an implementation by the Youtube Channel: Aladdin Person\n",
    "\n",
    "(The github repo https://github.com/aladdinpersson/Machine-Learning-Collection/blob/master/ML/Pytorch/more_advanced/seq2seq_transformer/seq2seq_transformer.py)"
   ]
  }
 ],
 "metadata": {
  "accelerator": "GPU",
  "colab": {
   "collapsed_sections": [],
   "name": "Transformer1.ipynb",
   "provenance": []
  },
  "kernelspec": {
   "display_name": "Python 3",
   "language": "python",
   "name": "python3"
  },
  "language_info": {
   "codemirror_mode": {
    "name": "ipython",
    "version": 3
   },
   "file_extension": ".py",
   "mimetype": "text/x-python",
   "name": "python",
   "nbconvert_exporter": "python",
   "pygments_lexer": "ipython3",
   "version": "3.8.8"
  }
 },
 "nbformat": 4,
 "nbformat_minor": 1
}
